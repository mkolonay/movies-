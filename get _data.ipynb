{
 "cells": [
  {
   "cell_type": "code",
   "execution_count": 1,
   "id": "0457e5bb-34af-430c-a9bb-05490f5f6ebd",
   "metadata": {},
   "outputs": [],
   "source": [
    "import imdb\n",
    "import json\n",
    "import pandas as pd\n",
    "from rotten_tomatoes_scraper.rt_scraper import MovieScraper\n",
    "ia = imdb.IMDb()"
   ]
  },
  {
   "cell_type": "code",
   "execution_count": 6,
   "id": "3fb408cf-7422-4364-b0f6-e22cb973b949",
   "metadata": {},
   "outputs": [],
   "source": [
    "movies_seen = [\n",
    "    (\"Dune\",None)\n",
    "    ,(\"No Time to Die\",None)\n",
    "    ,(\"Venom: Let There Be Carnage\",None)\n",
    "    ,(\"Birds of Prey\",'https://www.rottentomatoes.com/m/birds_of_prey_2020')\n",
    "    ,(\"Star Wars: The Rise of Skywalker\",None)\n",
    "    ,(\"cats\",'https://www.rottentomatoes.com/m/cats_2019')\n",
    "    ,(\"Knives Out\",None)\n",
    "    ,(\"Fast & Furious Presents: Hobbs & Shaw\",None)\n",
    "    ,(\"Once Upon a Time in Hollywood\",None)\n",
    "    ,(\"Spider-Man: Far From Home\",None)\n",
    "    ,(\"John Wick: Chapter 3 - Parabellum\",None)\n",
    "    ,(\"avengers: endgame\",None)\n",
    "    ,(\"Us\",'https://www.rottentomatoes.com/m/us_2019')\n",
    "    ,(\"Captain Marvel\",None)\n",
    "      ]"
   ]
  },
  {
   "cell_type": "code",
   "execution_count": 3,
   "id": "109fdee5-d25e-42ee-877b-ff2fcddf8a93",
   "metadata": {},
   "outputs": [
    {
     "name": "stdout",
     "output_type": "stream",
     "text": [
      "getting Us\n"
     ]
    },
    {
     "data": {
      "text/plain": [
       "['Us', '6857112', 7, '8 March 2019']"
      ]
     },
     "execution_count": 3,
     "metadata": {},
     "output_type": "execute_result"
    }
   ],
   "source": [
    "def get_imdb_movie_info(movie_info):\n",
    "    movie_title = movie_info[0]\n",
    "    print(f'getting {movie_title}')\n",
    "    movies = ia.search_movie(movie_title)\n",
    "    movie = movies[0]\n",
    "    ia.update(movie, info=['taglines', 'vote details'])\n",
    "    # print(movie.current_info)\n",
    "    # print(movie['title'])\n",
    "    title = movie['title']\n",
    "    \n",
    "    # print(movie.movieID)\n",
    "    movie_id = movie.movieID\n",
    "    \n",
    "    # print(movie['median'])\n",
    "    median_score = movie['median']\n",
    "    \n",
    "    raw_release_date_info = ia.get_movie_release_dates(movie.movieID)\n",
    "    y = raw_release_date_info\n",
    "    # print(y['data']['raw release dates'][0]['date'])\n",
    "    \n",
    "    release_date = y['data']['raw release dates'][0]['date']\n",
    "    return ([title,movie_id,median_score,release_date])\n",
    "    \n",
    "# Test the function\n",
    "# test = ('Us',None)\n",
    "# get_imdb_movie_info(test)"
   ]
  },
  {
   "cell_type": "code",
   "execution_count": 4,
   "id": "b55c0495-c131-4e55-9f76-297b709fc7d1",
   "metadata": {},
   "outputs": [],
   "source": [
    "def get_rt_movie_info(info):\n",
    "    \n",
    "    title = info[0]\n",
    "    url = info[1]\n",
    "    # print(f'getting {title}')\n",
    "    \n",
    "    if(url):        \n",
    "        movie_scraper = MovieScraper(movie_url=url)\n",
    "    else:    \n",
    "        try:\n",
    "            movie_scraper = MovieScraper(movie_title=title.lower())\n",
    "        except:\n",
    "            movie_scraper = MovieScraper(movie_title=title)\n",
    "            \n",
    "    movie_scraper.extract_metadata()\n",
    "    # print(movie_scraper.metadata)\n",
    "    return (movie_scraper.metadata['Score_Rotten'], movie_scraper.metadata['Score_Audience'])\n",
    "\n",
    "# test = (\"Us\",'https://www.rottentomatoes.com/m/us_2019')\n",
    "# get_rt_movie_info(test)"
   ]
  },
  {
   "cell_type": "code",
   "execution_count": 8,
   "id": "d487ee40-578e-4644-868a-b5614c4c588e",
   "metadata": {},
   "outputs": [
    {
     "name": "stdout",
     "output_type": "stream",
     "text": [
      "getting Dune\n",
      "getting No Time to Die\n",
      "getting Venom: Let There Be Carnage\n",
      "getting Birds of Prey\n",
      "getting Star Wars: The Rise of Skywalker\n",
      "getting cats\n",
      "getting Knives Out\n",
      "getting Fast & Furious Presents: Hobbs & Shaw\n",
      "getting Once Upon a Time in Hollywood\n",
      "getting Spider-Man: Far From Home\n",
      "getting John Wick: Chapter 3 - Parabellum\n",
      "getting avengers: endgame\n",
      "getting Us\n",
      "getting Captain Marvel\n"
     ]
    }
   ],
   "source": [
    "try:\n",
    "    df = pd.read_csv('movies.csv')  \n",
    "except:\n",
    "    df = pd.DataFrame()\n",
    "    for movie in movies_seen:\n",
    "        result_imdb = get_imdb_movie_info(movie)\n",
    "        result_rt = get_rt_movie_info(movie)\n",
    "        df = df.append({'title': result_imdb[0], 'movie_id': result_imdb[1], 'imdb_median_score': result_imdb[2], 'rt_rotten_score': result_rt[0], 'rt_audience_score': result_rt[1], 'release_date' : result_imdb[3]}, ignore_index=True)\n",
    "\n",
    "    df['dates'] = pd.to_datetime(df['release_date'], format='%d %B %Y')\n",
    "    df.to_csv('movies.csv', index=False) "
   ]
  },
  {
   "cell_type": "code",
   "execution_count": null,
   "id": "dbe6daa1-25ae-43ff-8b4f-35f4a1b76280",
   "metadata": {},
   "outputs": [],
   "source": []
  }
 ],
 "metadata": {
  "kernelspec": {
   "display_name": "Python 3 (ipykernel)",
   "language": "python",
   "name": "python3"
  },
  "language_info": {
   "codemirror_mode": {
    "name": "ipython",
    "version": 3
   },
   "file_extension": ".py",
   "mimetype": "text/x-python",
   "name": "python",
   "nbconvert_exporter": "python",
   "pygments_lexer": "ipython3",
   "version": "3.8.12"
  }
 },
 "nbformat": 4,
 "nbformat_minor": 5
}
