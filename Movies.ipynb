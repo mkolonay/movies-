{
 "cells": [
  {
   "cell_type": "code",
   "execution_count": 1,
   "id": "2eac4cdf-2bd1-47d2-96eb-a136afaeebd7",
   "metadata": {},
   "outputs": [],
   "source": [
    "import json\n",
    "import pandas as pd\n",
    "import plotly.graph_objects as go\n",
    "import plotly.express as px"
   ]
  },
  {
   "cell_type": "code",
   "execution_count": 2,
   "id": "a917a73d-b3ad-4635-8cd8-d19c9edad688",
   "metadata": {},
   "outputs": [],
   "source": [
    "try:\n",
    "    df = pd.read_csv('movies.csv')  \n",
    "except:\n",
    "   print(\"Can't get the dang movies\")"
   ]
  },
  {
   "cell_type": "code",
   "execution_count": 3,
   "id": "3582db3f-3253-4ce5-98e8-62400c21468f",
   "metadata": {},
   "outputs": [
    {
     "data": {
      "text/html": [
       "<div>\n",
       "<style scoped>\n",
       "    .dataframe tbody tr th:only-of-type {\n",
       "        vertical-align: middle;\n",
       "    }\n",
       "\n",
       "    .dataframe tbody tr th {\n",
       "        vertical-align: top;\n",
       "    }\n",
       "\n",
       "    .dataframe thead th {\n",
       "        text-align: right;\n",
       "    }\n",
       "</style>\n",
       "<table border=\"1\" class=\"dataframe\">\n",
       "  <thead>\n",
       "    <tr style=\"text-align: right;\">\n",
       "      <th></th>\n",
       "      <th>title</th>\n",
       "      <th>movie_id</th>\n",
       "      <th>imdb_median_score</th>\n",
       "      <th>rt_rotten_score</th>\n",
       "      <th>rt_audience_score</th>\n",
       "      <th>release_date</th>\n",
       "      <th>dates</th>\n",
       "    </tr>\n",
       "  </thead>\n",
       "  <tbody>\n",
       "    <tr>\n",
       "      <th>0</th>\n",
       "      <td>Dune</td>\n",
       "      <td>1160419</td>\n",
       "      <td>9.0</td>\n",
       "      <td>83</td>\n",
       "      <td>90</td>\n",
       "      <td>3 September 2021</td>\n",
       "      <td>2021-09-03</td>\n",
       "    </tr>\n",
       "    <tr>\n",
       "      <th>1</th>\n",
       "      <td>No Time to Die</td>\n",
       "      <td>2382320</td>\n",
       "      <td>8.0</td>\n",
       "      <td>84</td>\n",
       "      <td>88</td>\n",
       "      <td>28 September 2021</td>\n",
       "      <td>2021-09-28</td>\n",
       "    </tr>\n",
       "    <tr>\n",
       "      <th>2</th>\n",
       "      <td>Venom: Let There Be Carnage</td>\n",
       "      <td>7097896</td>\n",
       "      <td>7.0</td>\n",
       "      <td>60</td>\n",
       "      <td>84</td>\n",
       "      <td>14 September 2021</td>\n",
       "      <td>2021-09-14</td>\n",
       "    </tr>\n",
       "    <tr>\n",
       "      <th>3</th>\n",
       "      <td>Birds of Prey</td>\n",
       "      <td>7713068</td>\n",
       "      <td>6.0</td>\n",
       "      <td>79</td>\n",
       "      <td>78</td>\n",
       "      <td>25 January 2020</td>\n",
       "      <td>2020-01-25</td>\n",
       "    </tr>\n",
       "    <tr>\n",
       "      <th>4</th>\n",
       "      <td>Star Wars: Episode IX - The Rise of Skywalker</td>\n",
       "      <td>2527338</td>\n",
       "      <td>7.0</td>\n",
       "      <td>52</td>\n",
       "      <td>86</td>\n",
       "      <td>16 December 2019</td>\n",
       "      <td>2019-12-16</td>\n",
       "    </tr>\n",
       "    <tr>\n",
       "      <th>5</th>\n",
       "      <td>Cats</td>\n",
       "      <td>5697572</td>\n",
       "      <td>2.0</td>\n",
       "      <td>20</td>\n",
       "      <td>53</td>\n",
       "      <td>16 December 2019</td>\n",
       "      <td>2019-12-16</td>\n",
       "    </tr>\n",
       "    <tr>\n",
       "      <th>6</th>\n",
       "      <td>Knives Out</td>\n",
       "      <td>8946378</td>\n",
       "      <td>8.0</td>\n",
       "      <td>97</td>\n",
       "      <td>92</td>\n",
       "      <td>7 September 2019</td>\n",
       "      <td>2019-09-07</td>\n",
       "    </tr>\n",
       "    <tr>\n",
       "      <th>7</th>\n",
       "      <td>Fast &amp; Furious Presents: Hobbs &amp; Shaw</td>\n",
       "      <td>6806448</td>\n",
       "      <td>7.0</td>\n",
       "      <td>67</td>\n",
       "      <td>88</td>\n",
       "      <td>13 July 2019</td>\n",
       "      <td>2019-07-13</td>\n",
       "    </tr>\n",
       "    <tr>\n",
       "      <th>8</th>\n",
       "      <td>Once Upon a Time... In Hollywood</td>\n",
       "      <td>7131622</td>\n",
       "      <td>8.0</td>\n",
       "      <td>85</td>\n",
       "      <td>70</td>\n",
       "      <td>21 May 2019</td>\n",
       "      <td>2019-05-21</td>\n",
       "    </tr>\n",
       "    <tr>\n",
       "      <th>9</th>\n",
       "      <td>Spider-Man: Far from Home</td>\n",
       "      <td>6320628</td>\n",
       "      <td>8.0</td>\n",
       "      <td>90</td>\n",
       "      <td>95</td>\n",
       "      <td>26 June 2019</td>\n",
       "      <td>2019-06-26</td>\n",
       "    </tr>\n",
       "    <tr>\n",
       "      <th>10</th>\n",
       "      <td>John Wick: Chapter 3 - Parabellum</td>\n",
       "      <td>6146586</td>\n",
       "      <td>8.0</td>\n",
       "      <td>89</td>\n",
       "      <td>86</td>\n",
       "      <td>15 May 2019</td>\n",
       "      <td>2019-05-15</td>\n",
       "    </tr>\n",
       "    <tr>\n",
       "      <th>11</th>\n",
       "      <td>Avengers: Endgame</td>\n",
       "      <td>4154796</td>\n",
       "      <td>9.0</td>\n",
       "      <td>94</td>\n",
       "      <td>90</td>\n",
       "      <td>22 April 2019</td>\n",
       "      <td>2019-04-22</td>\n",
       "    </tr>\n",
       "    <tr>\n",
       "      <th>12</th>\n",
       "      <td>Us</td>\n",
       "      <td>6857112</td>\n",
       "      <td>7.0</td>\n",
       "      <td>93</td>\n",
       "      <td>59</td>\n",
       "      <td>8 March 2019</td>\n",
       "      <td>2019-03-08</td>\n",
       "    </tr>\n",
       "    <tr>\n",
       "      <th>13</th>\n",
       "      <td>Captain Marvel</td>\n",
       "      <td>4154664</td>\n",
       "      <td>7.0</td>\n",
       "      <td>79</td>\n",
       "      <td>45</td>\n",
       "      <td>27 February 2019</td>\n",
       "      <td>2019-02-27</td>\n",
       "    </tr>\n",
       "  </tbody>\n",
       "</table>\n",
       "</div>"
      ],
      "text/plain": [
       "                                            title  movie_id  \\\n",
       "0                                            Dune   1160419   \n",
       "1                                  No Time to Die   2382320   \n",
       "2                     Venom: Let There Be Carnage   7097896   \n",
       "3                                   Birds of Prey   7713068   \n",
       "4   Star Wars: Episode IX - The Rise of Skywalker   2527338   \n",
       "5                                            Cats   5697572   \n",
       "6                                      Knives Out   8946378   \n",
       "7           Fast & Furious Presents: Hobbs & Shaw   6806448   \n",
       "8                Once Upon a Time... In Hollywood   7131622   \n",
       "9                       Spider-Man: Far from Home   6320628   \n",
       "10              John Wick: Chapter 3 - Parabellum   6146586   \n",
       "11                              Avengers: Endgame   4154796   \n",
       "12                                             Us   6857112   \n",
       "13                                 Captain Marvel   4154664   \n",
       "\n",
       "    imdb_median_score  rt_rotten_score  rt_audience_score       release_date  \\\n",
       "0                 9.0               83                 90   3 September 2021   \n",
       "1                 8.0               84                 88  28 September 2021   \n",
       "2                 7.0               60                 84  14 September 2021   \n",
       "3                 6.0               79                 78    25 January 2020   \n",
       "4                 7.0               52                 86   16 December 2019   \n",
       "5                 2.0               20                 53   16 December 2019   \n",
       "6                 8.0               97                 92   7 September 2019   \n",
       "7                 7.0               67                 88       13 July 2019   \n",
       "8                 8.0               85                 70        21 May 2019   \n",
       "9                 8.0               90                 95       26 June 2019   \n",
       "10                8.0               89                 86        15 May 2019   \n",
       "11                9.0               94                 90      22 April 2019   \n",
       "12                7.0               93                 59       8 March 2019   \n",
       "13                7.0               79                 45   27 February 2019   \n",
       "\n",
       "         dates  \n",
       "0   2021-09-03  \n",
       "1   2021-09-28  \n",
       "2   2021-09-14  \n",
       "3   2020-01-25  \n",
       "4   2019-12-16  \n",
       "5   2019-12-16  \n",
       "6   2019-09-07  \n",
       "7   2019-07-13  \n",
       "8   2019-05-21  \n",
       "9   2019-06-26  \n",
       "10  2019-05-15  \n",
       "11  2019-04-22  \n",
       "12  2019-03-08  \n",
       "13  2019-02-27  "
      ]
     },
     "execution_count": 3,
     "metadata": {},
     "output_type": "execute_result"
    }
   ],
   "source": [
    "df"
   ]
  },
  {
   "cell_type": "code",
   "execution_count": null,
   "id": "4e4495dd-b1c3-4af8-b5d2-2dec400fcf96",
   "metadata": {},
   "outputs": [],
   "source": [
    "df.sort_values(by=['dates'], inplace=True)\n",
    "fig = px.bar(df, x='dates', y=\"median_score\", hover_data=[\"title\", \"median_score\"], color=\"median_score\")\n",
    "fig.update_layout(barmode='overlay')\n",
    "fig.show()"
   ]
  },
  {
   "cell_type": "code",
   "execution_count": null,
   "id": "7470b585-cfd1-4d9f-8fbb-0978be091cf1",
   "metadata": {},
   "outputs": [],
   "source": [
    "df.sort_values(by=['dates'], inplace=True)\n",
    "fig = px.line(df, x='dates', y=\"median_score\", hover_data=[\"title\", \"median_score\"])\n",
    "fig.show()"
   ]
  },
  {
   "cell_type": "code",
   "execution_count": 37,
   "id": "5f960a1a-5ce3-49b4-b0b1-c84a60938ab1",
   "metadata": {},
   "outputs": [
    {
     "data": {
      "application/vnd.plotly.v1+json": {
       "config": {
        "plotlyServerURL": "https://plot.ly"
       },
       "data": [
        {
         "hovertext": [
          "Captain Marvel",
          "Us",
          "Avengers: Endgame",
          "John Wick: Chapter 3 - Parabellum",
          "Once Upon a Time... In Hollywood",
          "Spider-Man: Far from Home",
          "Fast & Furious Presents: Hobbs & Shaw",
          "Knives Out",
          "Star Wars: Episode IX - The Rise of Skywalker",
          "Cats",
          "Birds of Prey",
          "Dune",
          "Venom: Let There Be Carnage",
          "No Time to Die"
         ],
         "line": {
          "color": "rebeccapurple",
          "dash": "dot"
         },
         "mode": "markers+lines",
         "name": "rotten",
         "type": "scatter",
         "x": [
          "2019-02-27",
          "2019-03-08",
          "2019-04-22",
          "2019-05-15",
          "2019-05-21",
          "2019-06-26",
          "2019-07-13",
          "2019-09-07",
          "2019-12-16",
          "2019-12-16",
          "2020-01-25",
          "2021-09-03",
          "2021-09-14",
          "2021-09-28"
         ],
         "y": [
          79,
          93,
          94,
          89,
          85,
          90,
          67,
          97,
          52,
          20,
          79,
          83,
          60,
          84
         ]
        },
        {
         "hovertext": [
          "Captain Marvel",
          "Us",
          "Avengers: Endgame",
          "John Wick: Chapter 3 - Parabellum",
          "Once Upon a Time... In Hollywood",
          "Spider-Man: Far from Home",
          "Fast & Furious Presents: Hobbs & Shaw",
          "Knives Out",
          "Star Wars: Episode IX - The Rise of Skywalker",
          "Cats",
          "Birds of Prey",
          "Dune",
          "Venom: Let There Be Carnage",
          "No Time to Die"
         ],
         "line": {
          "color": "DeepPink",
          "dash": "solid"
         },
         "mode": "markers+lines",
         "name": "audience",
         "type": "scatter",
         "x": [
          "2019-02-27",
          "2019-03-08",
          "2019-04-22",
          "2019-05-15",
          "2019-05-21",
          "2019-06-26",
          "2019-07-13",
          "2019-09-07",
          "2019-12-16",
          "2019-12-16",
          "2020-01-25",
          "2021-09-03",
          "2021-09-14",
          "2021-09-28"
         ],
         "y": [
          45,
          59,
          90,
          86,
          70,
          95,
          88,
          92,
          86,
          53,
          78,
          90,
          84,
          88
         ]
        },
        {
         "hovertext": [
          "Captain Marvel",
          "Us",
          "Avengers: Endgame",
          "John Wick: Chapter 3 - Parabellum",
          "Once Upon a Time... In Hollywood",
          "Spider-Man: Far from Home",
          "Fast & Furious Presents: Hobbs & Shaw",
          "Knives Out",
          "Star Wars: Episode IX - The Rise of Skywalker",
          "Cats",
          "Birds of Prey",
          "Dune",
          "Venom: Let There Be Carnage",
          "No Time to Die"
         ],
         "line": {
          "color": "peru",
          "dash": "dot"
         },
         "mode": "markers+lines",
         "name": "imdb",
         "type": "scatter",
         "x": [
          "2019-02-27",
          "2019-03-08",
          "2019-04-22",
          "2019-05-15",
          "2019-05-21",
          "2019-06-26",
          "2019-07-13",
          "2019-09-07",
          "2019-12-16",
          "2019-12-16",
          "2020-01-25",
          "2021-09-03",
          "2021-09-14",
          "2021-09-28"
         ],
         "y": [
          70,
          70,
          90,
          80,
          80,
          80,
          70,
          80,
          70,
          20,
          60,
          90,
          70,
          80
         ]
        }
       ],
       "layout": {
        "autosize": true,
        "hovermode": "x unified",
        "template": {
         "data": {
          "bar": [
           {
            "error_x": {
             "color": "#2a3f5f"
            },
            "error_y": {
             "color": "#2a3f5f"
            },
            "marker": {
             "line": {
              "color": "#E5ECF6",
              "width": 0.5
             },
             "pattern": {
              "fillmode": "overlay",
              "size": 10,
              "solidity": 0.2
             }
            },
            "type": "bar"
           }
          ],
          "barpolar": [
           {
            "marker": {
             "line": {
              "color": "#E5ECF6",
              "width": 0.5
             },
             "pattern": {
              "fillmode": "overlay",
              "size": 10,
              "solidity": 0.2
             }
            },
            "type": "barpolar"
           }
          ],
          "carpet": [
           {
            "aaxis": {
             "endlinecolor": "#2a3f5f",
             "gridcolor": "white",
             "linecolor": "white",
             "minorgridcolor": "white",
             "startlinecolor": "#2a3f5f"
            },
            "baxis": {
             "endlinecolor": "#2a3f5f",
             "gridcolor": "white",
             "linecolor": "white",
             "minorgridcolor": "white",
             "startlinecolor": "#2a3f5f"
            },
            "type": "carpet"
           }
          ],
          "choropleth": [
           {
            "colorbar": {
             "outlinewidth": 0,
             "ticks": ""
            },
            "type": "choropleth"
           }
          ],
          "contour": [
           {
            "colorbar": {
             "outlinewidth": 0,
             "ticks": ""
            },
            "colorscale": [
             [
              0,
              "#0d0887"
             ],
             [
              0.1111111111111111,
              "#46039f"
             ],
             [
              0.2222222222222222,
              "#7201a8"
             ],
             [
              0.3333333333333333,
              "#9c179e"
             ],
             [
              0.4444444444444444,
              "#bd3786"
             ],
             [
              0.5555555555555556,
              "#d8576b"
             ],
             [
              0.6666666666666666,
              "#ed7953"
             ],
             [
              0.7777777777777778,
              "#fb9f3a"
             ],
             [
              0.8888888888888888,
              "#fdca26"
             ],
             [
              1,
              "#f0f921"
             ]
            ],
            "type": "contour"
           }
          ],
          "contourcarpet": [
           {
            "colorbar": {
             "outlinewidth": 0,
             "ticks": ""
            },
            "type": "contourcarpet"
           }
          ],
          "heatmap": [
           {
            "colorbar": {
             "outlinewidth": 0,
             "ticks": ""
            },
            "colorscale": [
             [
              0,
              "#0d0887"
             ],
             [
              0.1111111111111111,
              "#46039f"
             ],
             [
              0.2222222222222222,
              "#7201a8"
             ],
             [
              0.3333333333333333,
              "#9c179e"
             ],
             [
              0.4444444444444444,
              "#bd3786"
             ],
             [
              0.5555555555555556,
              "#d8576b"
             ],
             [
              0.6666666666666666,
              "#ed7953"
             ],
             [
              0.7777777777777778,
              "#fb9f3a"
             ],
             [
              0.8888888888888888,
              "#fdca26"
             ],
             [
              1,
              "#f0f921"
             ]
            ],
            "type": "heatmap"
           }
          ],
          "heatmapgl": [
           {
            "colorbar": {
             "outlinewidth": 0,
             "ticks": ""
            },
            "colorscale": [
             [
              0,
              "#0d0887"
             ],
             [
              0.1111111111111111,
              "#46039f"
             ],
             [
              0.2222222222222222,
              "#7201a8"
             ],
             [
              0.3333333333333333,
              "#9c179e"
             ],
             [
              0.4444444444444444,
              "#bd3786"
             ],
             [
              0.5555555555555556,
              "#d8576b"
             ],
             [
              0.6666666666666666,
              "#ed7953"
             ],
             [
              0.7777777777777778,
              "#fb9f3a"
             ],
             [
              0.8888888888888888,
              "#fdca26"
             ],
             [
              1,
              "#f0f921"
             ]
            ],
            "type": "heatmapgl"
           }
          ],
          "histogram": [
           {
            "marker": {
             "pattern": {
              "fillmode": "overlay",
              "size": 10,
              "solidity": 0.2
             }
            },
            "type": "histogram"
           }
          ],
          "histogram2d": [
           {
            "colorbar": {
             "outlinewidth": 0,
             "ticks": ""
            },
            "colorscale": [
             [
              0,
              "#0d0887"
             ],
             [
              0.1111111111111111,
              "#46039f"
             ],
             [
              0.2222222222222222,
              "#7201a8"
             ],
             [
              0.3333333333333333,
              "#9c179e"
             ],
             [
              0.4444444444444444,
              "#bd3786"
             ],
             [
              0.5555555555555556,
              "#d8576b"
             ],
             [
              0.6666666666666666,
              "#ed7953"
             ],
             [
              0.7777777777777778,
              "#fb9f3a"
             ],
             [
              0.8888888888888888,
              "#fdca26"
             ],
             [
              1,
              "#f0f921"
             ]
            ],
            "type": "histogram2d"
           }
          ],
          "histogram2dcontour": [
           {
            "colorbar": {
             "outlinewidth": 0,
             "ticks": ""
            },
            "colorscale": [
             [
              0,
              "#0d0887"
             ],
             [
              0.1111111111111111,
              "#46039f"
             ],
             [
              0.2222222222222222,
              "#7201a8"
             ],
             [
              0.3333333333333333,
              "#9c179e"
             ],
             [
              0.4444444444444444,
              "#bd3786"
             ],
             [
              0.5555555555555556,
              "#d8576b"
             ],
             [
              0.6666666666666666,
              "#ed7953"
             ],
             [
              0.7777777777777778,
              "#fb9f3a"
             ],
             [
              0.8888888888888888,
              "#fdca26"
             ],
             [
              1,
              "#f0f921"
             ]
            ],
            "type": "histogram2dcontour"
           }
          ],
          "mesh3d": [
           {
            "colorbar": {
             "outlinewidth": 0,
             "ticks": ""
            },
            "type": "mesh3d"
           }
          ],
          "parcoords": [
           {
            "line": {
             "colorbar": {
              "outlinewidth": 0,
              "ticks": ""
             }
            },
            "type": "parcoords"
           }
          ],
          "pie": [
           {
            "automargin": true,
            "type": "pie"
           }
          ],
          "scatter": [
           {
            "marker": {
             "colorbar": {
              "outlinewidth": 0,
              "ticks": ""
             }
            },
            "type": "scatter"
           }
          ],
          "scatter3d": [
           {
            "line": {
             "colorbar": {
              "outlinewidth": 0,
              "ticks": ""
             }
            },
            "marker": {
             "colorbar": {
              "outlinewidth": 0,
              "ticks": ""
             }
            },
            "type": "scatter3d"
           }
          ],
          "scattercarpet": [
           {
            "marker": {
             "colorbar": {
              "outlinewidth": 0,
              "ticks": ""
             }
            },
            "type": "scattercarpet"
           }
          ],
          "scattergeo": [
           {
            "marker": {
             "colorbar": {
              "outlinewidth": 0,
              "ticks": ""
             }
            },
            "type": "scattergeo"
           }
          ],
          "scattergl": [
           {
            "marker": {
             "colorbar": {
              "outlinewidth": 0,
              "ticks": ""
             }
            },
            "type": "scattergl"
           }
          ],
          "scattermapbox": [
           {
            "marker": {
             "colorbar": {
              "outlinewidth": 0,
              "ticks": ""
             }
            },
            "type": "scattermapbox"
           }
          ],
          "scatterpolar": [
           {
            "marker": {
             "colorbar": {
              "outlinewidth": 0,
              "ticks": ""
             }
            },
            "type": "scatterpolar"
           }
          ],
          "scatterpolargl": [
           {
            "marker": {
             "colorbar": {
              "outlinewidth": 0,
              "ticks": ""
             }
            },
            "type": "scatterpolargl"
           }
          ],
          "scatterternary": [
           {
            "marker": {
             "colorbar": {
              "outlinewidth": 0,
              "ticks": ""
             }
            },
            "type": "scatterternary"
           }
          ],
          "surface": [
           {
            "colorbar": {
             "outlinewidth": 0,
             "ticks": ""
            },
            "colorscale": [
             [
              0,
              "#0d0887"
             ],
             [
              0.1111111111111111,
              "#46039f"
             ],
             [
              0.2222222222222222,
              "#7201a8"
             ],
             [
              0.3333333333333333,
              "#9c179e"
             ],
             [
              0.4444444444444444,
              "#bd3786"
             ],
             [
              0.5555555555555556,
              "#d8576b"
             ],
             [
              0.6666666666666666,
              "#ed7953"
             ],
             [
              0.7777777777777778,
              "#fb9f3a"
             ],
             [
              0.8888888888888888,
              "#fdca26"
             ],
             [
              1,
              "#f0f921"
             ]
            ],
            "type": "surface"
           }
          ],
          "table": [
           {
            "cells": {
             "fill": {
              "color": "#EBF0F8"
             },
             "line": {
              "color": "white"
             }
            },
            "header": {
             "fill": {
              "color": "#C8D4E3"
             },
             "line": {
              "color": "white"
             }
            },
            "type": "table"
           }
          ]
         },
         "layout": {
          "annotationdefaults": {
           "arrowcolor": "#2a3f5f",
           "arrowhead": 0,
           "arrowwidth": 1
          },
          "autotypenumbers": "strict",
          "coloraxis": {
           "colorbar": {
            "outlinewidth": 0,
            "ticks": ""
           }
          },
          "colorscale": {
           "diverging": [
            [
             0,
             "#8e0152"
            ],
            [
             0.1,
             "#c51b7d"
            ],
            [
             0.2,
             "#de77ae"
            ],
            [
             0.3,
             "#f1b6da"
            ],
            [
             0.4,
             "#fde0ef"
            ],
            [
             0.5,
             "#f7f7f7"
            ],
            [
             0.6,
             "#e6f5d0"
            ],
            [
             0.7,
             "#b8e186"
            ],
            [
             0.8,
             "#7fbc41"
            ],
            [
             0.9,
             "#4d9221"
            ],
            [
             1,
             "#276419"
            ]
           ],
           "sequential": [
            [
             0,
             "#0d0887"
            ],
            [
             0.1111111111111111,
             "#46039f"
            ],
            [
             0.2222222222222222,
             "#7201a8"
            ],
            [
             0.3333333333333333,
             "#9c179e"
            ],
            [
             0.4444444444444444,
             "#bd3786"
            ],
            [
             0.5555555555555556,
             "#d8576b"
            ],
            [
             0.6666666666666666,
             "#ed7953"
            ],
            [
             0.7777777777777778,
             "#fb9f3a"
            ],
            [
             0.8888888888888888,
             "#fdca26"
            ],
            [
             1,
             "#f0f921"
            ]
           ],
           "sequentialminus": [
            [
             0,
             "#0d0887"
            ],
            [
             0.1111111111111111,
             "#46039f"
            ],
            [
             0.2222222222222222,
             "#7201a8"
            ],
            [
             0.3333333333333333,
             "#9c179e"
            ],
            [
             0.4444444444444444,
             "#bd3786"
            ],
            [
             0.5555555555555556,
             "#d8576b"
            ],
            [
             0.6666666666666666,
             "#ed7953"
            ],
            [
             0.7777777777777778,
             "#fb9f3a"
            ],
            [
             0.8888888888888888,
             "#fdca26"
            ],
            [
             1,
             "#f0f921"
            ]
           ]
          },
          "colorway": [
           "#636efa",
           "#EF553B",
           "#00cc96",
           "#ab63fa",
           "#FFA15A",
           "#19d3f3",
           "#FF6692",
           "#B6E880",
           "#FF97FF",
           "#FECB52"
          ],
          "font": {
           "color": "#2a3f5f"
          },
          "geo": {
           "bgcolor": "white",
           "lakecolor": "white",
           "landcolor": "#E5ECF6",
           "showlakes": true,
           "showland": true,
           "subunitcolor": "white"
          },
          "hoverlabel": {
           "align": "left"
          },
          "hovermode": "closest",
          "mapbox": {
           "style": "light"
          },
          "paper_bgcolor": "white",
          "plot_bgcolor": "#E5ECF6",
          "polar": {
           "angularaxis": {
            "gridcolor": "white",
            "linecolor": "white",
            "ticks": ""
           },
           "bgcolor": "#E5ECF6",
           "radialaxis": {
            "gridcolor": "white",
            "linecolor": "white",
            "ticks": ""
           }
          },
          "scene": {
           "xaxis": {
            "backgroundcolor": "#E5ECF6",
            "gridcolor": "white",
            "gridwidth": 2,
            "linecolor": "white",
            "showbackground": true,
            "ticks": "",
            "zerolinecolor": "white"
           },
           "yaxis": {
            "backgroundcolor": "#E5ECF6",
            "gridcolor": "white",
            "gridwidth": 2,
            "linecolor": "white",
            "showbackground": true,
            "ticks": "",
            "zerolinecolor": "white"
           },
           "zaxis": {
            "backgroundcolor": "#E5ECF6",
            "gridcolor": "white",
            "gridwidth": 2,
            "linecolor": "white",
            "showbackground": true,
            "ticks": "",
            "zerolinecolor": "white"
           }
          },
          "shapedefaults": {
           "line": {
            "color": "#2a3f5f"
           }
          },
          "ternary": {
           "aaxis": {
            "gridcolor": "white",
            "linecolor": "white",
            "ticks": ""
           },
           "baxis": {
            "gridcolor": "white",
            "linecolor": "white",
            "ticks": ""
           },
           "bgcolor": "#E5ECF6",
           "caxis": {
            "gridcolor": "white",
            "linecolor": "white",
            "ticks": ""
           }
          },
          "title": {
           "x": 0.05
          },
          "xaxis": {
           "automargin": true,
           "gridcolor": "white",
           "linecolor": "white",
           "ticks": "",
           "title": {
            "standoff": 15
           },
           "zerolinecolor": "white",
           "zerolinewidth": 2
          },
          "yaxis": {
           "automargin": true,
           "gridcolor": "white",
           "linecolor": "white",
           "ticks": "",
           "title": {
            "standoff": 15
           },
           "zerolinecolor": "white",
           "zerolinewidth": 2
          }
         }
        },
        "xaxis": {
         "autorange": true,
         "range": [
          "2019-01-01 02:22:35.8124",
          "2021-11-23 21:37:24.1876"
         ],
         "type": "date"
        },
        "yaxis": {
         "autorange": true,
         "range": [
          13.645631067961165,
          103.35436893203884
         ],
         "type": "linear"
        }
       }
      },
      "image/png": "[encoded data removed]",
      "text/html": [
       "<div>                            <div id=\"98572c64-3408-441e-aa49-014aa9586fc0\" class=\"plotly-graph-div\" style=\"height:525px; width:100%;\"></div>            <script type=\"text/javascript\">                require([\"plotly\"], function(Plotly) {                    window.PLOTLYENV=window.PLOTLYENV || {};                                    if (document.getElementById(\"98572c64-3408-441e-aa49-014aa9586fc0\")) {                    Plotly.newPlot(                        \"98572c64-3408-441e-aa49-014aa9586fc0\",                        [{\"hovertext\":[\"Captain Marvel\",\"Us\",\"Avengers: Endgame\",\"John Wick: Chapter 3 - Parabellum\",\"Once Upon a Time... In Hollywood\",\"Spider-Man: Far from Home\",\"Fast & Furious Presents: Hobbs & Shaw\",\"Knives Out\",\"Star Wars: Episode IX - The Rise of Skywalker\",\"Cats\",\"Birds of Prey\",\"Dune\",\"Venom: Let There Be Carnage\",\"No Time to Die\"],\"line\":{\"color\":\"rebeccapurple\",\"dash\":\"dot\"},\"mode\":\"markers+lines\",\"name\":\"rotten\",\"type\":\"scatter\",\"x\":[\"2019-02-27\",\"2019-03-08\",\"2019-04-22\",\"2019-05-15\",\"2019-05-21\",\"2019-06-26\",\"2019-07-13\",\"2019-09-07\",\"2019-12-16\",\"2019-12-16\",\"2020-01-25\",\"2021-09-03\",\"2021-09-14\",\"2021-09-28\"],\"y\":[79,93,94,89,85,90,67,97,52,20,79,83,60,84]},{\"hovertext\":[\"Captain Marvel\",\"Us\",\"Avengers: Endgame\",\"John Wick: Chapter 3 - Parabellum\",\"Once Upon a Time... In Hollywood\",\"Spider-Man: Far from Home\",\"Fast & Furious Presents: Hobbs & Shaw\",\"Knives Out\",\"Star Wars: Episode IX - The Rise of Skywalker\",\"Cats\",\"Birds of Prey\",\"Dune\",\"Venom: Let There Be Carnage\",\"No Time to Die\"],\"line\":{\"color\":\"DeepPink\",\"dash\":\"solid\"},\"mode\":\"markers+lines\",\"name\":\"audience\",\"type\":\"scatter\",\"x\":[\"2019-02-27\",\"2019-03-08\",\"2019-04-22\",\"2019-05-15\",\"2019-05-21\",\"2019-06-26\",\"2019-07-13\",\"2019-09-07\",\"2019-12-16\",\"2019-12-16\",\"2020-01-25\",\"2021-09-03\",\"2021-09-14\",\"2021-09-28\"],\"y\":[45,59,90,86,70,95,88,92,86,53,78,90,84,88]},{\"hovertext\":[\"Captain Marvel\",\"Us\",\"Avengers: Endgame\",\"John Wick: Chapter 3 - Parabellum\",\"Once Upon a Time... In Hollywood\",\"Spider-Man: Far from Home\",\"Fast & Furious Presents: Hobbs & Shaw\",\"Knives Out\",\"Star Wars: Episode IX - The Rise of Skywalker\",\"Cats\",\"Birds of Prey\",\"Dune\",\"Venom: Let There Be Carnage\",\"No Time to Die\"],\"line\":{\"color\":\"peru\",\"dash\":\"dot\"},\"mode\":\"markers+lines\",\"name\":\"imdb\",\"type\":\"scatter\",\"x\":[\"2019-02-27\",\"2019-03-08\",\"2019-04-22\",\"2019-05-15\",\"2019-05-21\",\"2019-06-26\",\"2019-07-13\",\"2019-09-07\",\"2019-12-16\",\"2019-12-16\",\"2020-01-25\",\"2021-09-03\",\"2021-09-14\",\"2021-09-28\"],\"y\":[70.0,70.0,90.0,80.0,80.0,80.0,70.0,80.0,70.0,20.0,60.0,90.0,70.0,80.0]}],                        {\"hovermode\":\"x unified\",\"template\":{\"data\":{\"bar\":[{\"error_x\":{\"color\":\"#2a3f5f\"},\"error_y\":{\"color\":\"#2a3f5f\"},\"marker\":{\"line\":{\"color\":\"#E5ECF6\",\"width\":0.5},\"pattern\":{\"fillmode\":\"overlay\",\"size\":10,\"solidity\":0.2}},\"type\":\"bar\"}],\"barpolar\":[{\"marker\":{\"line\":{\"color\":\"#E5ECF6\",\"width\":0.5},\"pattern\":{\"fillmode\":\"overlay\",\"size\":10,\"solidity\":0.2}},\"type\":\"barpolar\"}],\"carpet\":[{\"aaxis\":{\"endlinecolor\":\"#2a3f5f\",\"gridcolor\":\"white\",\"linecolor\":\"white\",\"minorgridcolor\":\"white\",\"startlinecolor\":\"#2a3f5f\"},\"baxis\":{\"endlinecolor\":\"#2a3f5f\",\"gridcolor\":\"white\",\"linecolor\":\"white\",\"minorgridcolor\":\"white\",\"startlinecolor\":\"#2a3f5f\"},\"type\":\"carpet\"}],\"choropleth\":[{\"colorbar\":{\"outlinewidth\":0,\"ticks\":\"\"},\"type\":\"choropleth\"}],\"contour\":[{\"colorbar\":{\"outlinewidth\":0,\"ticks\":\"\"},\"colorscale\":[[0.0,\"#0d0887\"],[0.1111111111111111,\"#46039f\"],[0.2222222222222222,\"#7201a8\"],[0.3333333333333333,\"#9c179e\"],[0.4444444444444444,\"#bd3786\"],[0.5555555555555556,\"#d8576b\"],[0.6666666666666666,\"#ed7953\"],[0.7777777777777778,\"#fb9f3a\"],[0.8888888888888888,\"#fdca26\"],[1.0,\"#f0f921\"]],\"type\":\"contour\"}],\"contourcarpet\":[{\"colorbar\":{\"outlinewidth\":0,\"ticks\":\"\"},\"type\":\"contourcarpet\"}],\"heatmap\":[{\"colorbar\":{\"outlinewidth\":0,\"ticks\":\"\"},\"colorscale\":[[0.0,\"#0d0887\"],[0.1111111111111111,\"#46039f\"],[0.2222222222222222,\"#7201a8\"],[0.3333333333333333,\"#9c179e\"],[0.4444444444444444,\"#bd3786\"],[0.5555555555555556,\"#d8576b\"],[0.6666666666666666,\"#ed7953\"],[0.7777777777777778,\"#fb9f3a\"],[0.8888888888888888,\"#fdca26\"],[1.0,\"#f0f921\"]],\"type\":\"heatmap\"}],\"heatmapgl\":[{\"colorbar\":{\"outlinewidth\":0,\"ticks\":\"\"},\"colorscale\":[[0.0,\"#0d0887\"],[0.1111111111111111,\"#46039f\"],[0.2222222222222222,\"#7201a8\"],[0.3333333333333333,\"#9c179e\"],[0.4444444444444444,\"#bd3786\"],[0.5555555555555556,\"#d8576b\"],[0.6666666666666666,\"#ed7953\"],[0.7777777777777778,\"#fb9f3a\"],[0.8888888888888888,\"#fdca26\"],[1.0,\"#f0f921\"]],\"type\":\"heatmapgl\"}],\"histogram\":[{\"marker\":{\"pattern\":{\"fillmode\":\"overlay\",\"size\":10,\"solidity\":0.2}},\"type\":\"histogram\"}],\"histogram2d\":[{\"colorbar\":{\"outlinewidth\":0,\"ticks\":\"\"},\"colorscale\":[[0.0,\"#0d0887\"],[0.1111111111111111,\"#46039f\"],[0.2222222222222222,\"#7201a8\"],[0.3333333333333333,\"#9c179e\"],[0.4444444444444444,\"#bd3786\"],[0.5555555555555556,\"#d8576b\"],[0.6666666666666666,\"#ed7953\"],[0.7777777777777778,\"#fb9f3a\"],[0.8888888888888888,\"#fdca26\"],[1.0,\"#f0f921\"]],\"type\":\"histogram2d\"}],\"histogram2dcontour\":[{\"colorbar\":{\"outlinewidth\":0,\"ticks\":\"\"},\"colorscale\":[[0.0,\"#0d0887\"],[0.1111111111111111,\"#46039f\"],[0.2222222222222222,\"#7201a8\"],[0.3333333333333333,\"#9c179e\"],[0.4444444444444444,\"#bd3786\"],[0.5555555555555556,\"#d8576b\"],[0.6666666666666666,\"#ed7953\"],[0.7777777777777778,\"#fb9f3a\"],[0.8888888888888888,\"#fdca26\"],[1.0,\"#f0f921\"]],\"type\":\"histogram2dcontour\"}],\"mesh3d\":[{\"colorbar\":{\"outlinewidth\":0,\"ticks\":\"\"},\"type\":\"mesh3d\"}],\"parcoords\":[{\"line\":{\"colorbar\":{\"outlinewidth\":0,\"ticks\":\"\"}},\"type\":\"parcoords\"}],\"pie\":[{\"automargin\":true,\"type\":\"pie\"}],\"scatter\":[{\"marker\":{\"colorbar\":{\"outlinewidth\":0,\"ticks\":\"\"}},\"type\":\"scatter\"}],\"scatter3d\":[{\"line\":{\"colorbar\":{\"outlinewidth\":0,\"ticks\":\"\"}},\"marker\":{\"colorbar\":{\"outlinewidth\":0,\"ticks\":\"\"}},\"type\":\"scatter3d\"}],\"scattercarpet\":[{\"marker\":{\"colorbar\":{\"outlinewidth\":0,\"ticks\":\"\"}},\"type\":\"scattercarpet\"}],\"scattergeo\":[{\"marker\":{\"colorbar\":{\"outlinewidth\":0,\"ticks\":\"\"}},\"type\":\"scattergeo\"}],\"scattergl\":[{\"marker\":{\"colorbar\":{\"outlinewidth\":0,\"ticks\":\"\"}},\"type\":\"scattergl\"}],\"scattermapbox\":[{\"marker\":{\"colorbar\":{\"outlinewidth\":0,\"ticks\":\"\"}},\"type\":\"scattermapbox\"}],\"scatterpolar\":[{\"marker\":{\"colorbar\":{\"outlinewidth\":0,\"ticks\":\"\"}},\"type\":\"scatterpolar\"}],\"scatterpolargl\":[{\"marker\":{\"colorbar\":{\"outlinewidth\":0,\"ticks\":\"\"}},\"type\":\"scatterpolargl\"}],\"scatterternary\":[{\"marker\":{\"colorbar\":{\"outlinewidth\":0,\"ticks\":\"\"}},\"type\":\"scatterternary\"}],\"surface\":[{\"colorbar\":{\"outlinewidth\":0,\"ticks\":\"\"},\"colorscale\":[[0.0,\"#0d0887\"],[0.1111111111111111,\"#46039f\"],[0.2222222222222222,\"#7201a8\"],[0.3333333333333333,\"#9c179e\"],[0.4444444444444444,\"#bd3786\"],[0.5555555555555556,\"#d8576b\"],[0.6666666666666666,\"#ed7953\"],[0.7777777777777778,\"#fb9f3a\"],[0.8888888888888888,\"#fdca26\"],[1.0,\"#f0f921\"]],\"type\":\"surface\"}],\"table\":[{\"cells\":{\"fill\":{\"color\":\"#EBF0F8\"},\"line\":{\"color\":\"white\"}},\"header\":{\"fill\":{\"color\":\"#C8D4E3\"},\"line\":{\"color\":\"white\"}},\"type\":\"table\"}]},\"layout\":{\"annotationdefaults\":{\"arrowcolor\":\"#2a3f5f\",\"arrowhead\":0,\"arrowwidth\":1},\"autotypenumbers\":\"strict\",\"coloraxis\":{\"colorbar\":{\"outlinewidth\":0,\"ticks\":\"\"}},\"colorscale\":{\"diverging\":[[0,\"#8e0152\"],[0.1,\"#c51b7d\"],[0.2,\"#de77ae\"],[0.3,\"#f1b6da\"],[0.4,\"#fde0ef\"],[0.5,\"#f7f7f7\"],[0.6,\"#e6f5d0\"],[0.7,\"#b8e186\"],[0.8,\"#7fbc41\"],[0.9,\"#4d9221\"],[1,\"#276419\"]],\"sequential\":[[0.0,\"#0d0887\"],[0.1111111111111111,\"#46039f\"],[0.2222222222222222,\"#7201a8\"],[0.3333333333333333,\"#9c179e\"],[0.4444444444444444,\"#bd3786\"],[0.5555555555555556,\"#d8576b\"],[0.6666666666666666,\"#ed7953\"],[0.7777777777777778,\"#fb9f3a\"],[0.8888888888888888,\"#fdca26\"],[1.0,\"#f0f921\"]],\"sequentialminus\":[[0.0,\"#0d0887\"],[0.1111111111111111,\"#46039f\"],[0.2222222222222222,\"#7201a8\"],[0.3333333333333333,\"#9c179e\"],[0.4444444444444444,\"#bd3786\"],[0.5555555555555556,\"#d8576b\"],[0.6666666666666666,\"#ed7953\"],[0.7777777777777778,\"#fb9f3a\"],[0.8888888888888888,\"#fdca26\"],[1.0,\"#f0f921\"]]},\"colorway\":[\"#636efa\",\"#EF553B\",\"#00cc96\",\"#ab63fa\",\"#FFA15A\",\"#19d3f3\",\"#FF6692\",\"#B6E880\",\"#FF97FF\",\"#FECB52\"],\"font\":{\"color\":\"#2a3f5f\"},\"geo\":{\"bgcolor\":\"white\",\"lakecolor\":\"white\",\"landcolor\":\"#E5ECF6\",\"showlakes\":true,\"showland\":true,\"subunitcolor\":\"white\"},\"hoverlabel\":{\"align\":\"left\"},\"hovermode\":\"closest\",\"mapbox\":{\"style\":\"light\"},\"paper_bgcolor\":\"white\",\"plot_bgcolor\":\"#E5ECF6\",\"polar\":{\"angularaxis\":{\"gridcolor\":\"white\",\"linecolor\":\"white\",\"ticks\":\"\"},\"bgcolor\":\"#E5ECF6\",\"radialaxis\":{\"gridcolor\":\"white\",\"linecolor\":\"white\",\"ticks\":\"\"}},\"scene\":{\"xaxis\":{\"backgroundcolor\":\"#E5ECF6\",\"gridcolor\":\"white\",\"gridwidth\":2,\"linecolor\":\"white\",\"showbackground\":true,\"ticks\":\"\",\"zerolinecolor\":\"white\"},\"yaxis\":{\"backgroundcolor\":\"#E5ECF6\",\"gridcolor\":\"white\",\"gridwidth\":2,\"linecolor\":\"white\",\"showbackground\":true,\"ticks\":\"\",\"zerolinecolor\":\"white\"},\"zaxis\":{\"backgroundcolor\":\"#E5ECF6\",\"gridcolor\":\"white\",\"gridwidth\":2,\"linecolor\":\"white\",\"showbackground\":true,\"ticks\":\"\",\"zerolinecolor\":\"white\"}},\"shapedefaults\":{\"line\":{\"color\":\"#2a3f5f\"}},\"ternary\":{\"aaxis\":{\"gridcolor\":\"white\",\"linecolor\":\"white\",\"ticks\":\"\"},\"baxis\":{\"gridcolor\":\"white\",\"linecolor\":\"white\",\"ticks\":\"\"},\"bgcolor\":\"#E5ECF6\",\"caxis\":{\"gridcolor\":\"white\",\"linecolor\":\"white\",\"ticks\":\"\"}},\"title\":{\"x\":0.05},\"xaxis\":{\"automargin\":true,\"gridcolor\":\"white\",\"linecolor\":\"white\",\"ticks\":\"\",\"title\":{\"standoff\":15},\"zerolinecolor\":\"white\",\"zerolinewidth\":2},\"yaxis\":{\"automargin\":true,\"gridcolor\":\"white\",\"linecolor\":\"white\",\"ticks\":\"\",\"title\":{\"standoff\":15},\"zerolinecolor\":\"white\",\"zerolinewidth\":2}}}},                        {\"responsive\": true}                    ).then(function(){\n",
       "                            \n",
       "var gd = document.getElementById('98572c64-3408-441e-aa49-014aa9586fc0');\n",
       "var x = new MutationObserver(function (mutations, observer) {{\n",
       "        var display = window.getComputedStyle(gd).display;\n",
       "        if (!display || display === 'none') {{\n",
       "            console.log([gd, 'removed!']);\n",
       "            Plotly.purge(gd);\n",
       "            observer.disconnect();\n",
       "        }}\n",
       "}});\n",
       "\n",
       "// Listen for the removal of the full notebook cells\n",
       "var notebookContainer = gd.closest('#notebook-container');\n",
       "if (notebookContainer) {{\n",
       "    x.observe(notebookContainer, {childList: true});\n",
       "}}\n",
       "\n",
       "// Listen for the clearing of the current output cell\n",
       "var outputEl = gd.closest('.output');\n",
       "if (outputEl) {{\n",
       "    x.observe(outputEl, {childList: true});\n",
       "}}\n",
       "\n",
       "                        })                };                });            </script>        </div>"
      ]
     },
     "metadata": {},
     "output_type": "display_data"
    }
   ],
   "source": [
    "df.sort_values(by=['dates'], inplace=True)\n",
    "# fig = px.line(df, x='dates', y=\"imdb_median_score\", hover_data=[\"title\", \"imdb_median_score\"])\n",
    "\n",
    "\n",
    "fig = go.Figure()\n",
    "\n",
    "fig.add_trace(go.Scatter(\n",
    "                                x=df['dates'],\n",
    "                                y=df['rt_rotten_score'],\n",
    "                                mode='lines',\n",
    "                                name='rotten',\n",
    "                                hovertext=df['title'],                                \n",
    "                                line=dict(color='rebeccapurple', dash='dot')\n",
    "                                \n",
    "                ))\n",
    "\n",
    "fig.add_trace(go.Scatter(\n",
    "                                x=df['dates'],\n",
    "                                y=df['rt_audience_score'],\n",
    "                                mode='lines',\n",
    "                                name='audience',\n",
    "                                hovertext=df['title'],\n",
    "                                line=dict(color='DeepPink', dash='solid')\n",
    "                ))\n",
    "\n",
    "\n",
    "fig.add_trace(go.Scatter(\n",
    "                                x=df['dates'],\n",
    "                                y=df['imdb_median_score']*10,\n",
    "                                mode='lines',\n",
    "                                name='imdb',          \n",
    "                                hovertext=df['title'],\n",
    "                                line=dict(color='peru', dash='dot')\n",
    "                ))\n",
    "\n",
    "\n",
    "hovertemplate = 'title: %{df[\"title\"]}'\n",
    "\n",
    "fig.update_traces(mode=\"markers+lines\")\n",
    "fig.update_layout(hovermode=\"x unified\")\n",
    "\n",
    "fig.show()"
   ]
  },
  {
   "cell_type": "code",
   "execution_count": null,
   "id": "4fcd621f-d97c-4167-bbc1-fb9e04c9829e",
   "metadata": {},
   "outputs": [],
   "source": []
  }
 ],
 "metadata": {
  "kernelspec": {
   "display_name": "Python 3 (ipykernel)",
   "language": "python",
   "name": "python3"
  },
  "language_info": {
   "codemirror_mode": {
    "name": "ipython",
    "version": 3
   },
   "file_extension": ".py",
   "mimetype": "text/x-python",
   "name": "python",
   "nbconvert_exporter": "python",
   "pygments_lexer": "ipython3",
   "version": "3.8.12"
  }
 },
 "nbformat": 4,
 "nbformat_minor": 5
}
